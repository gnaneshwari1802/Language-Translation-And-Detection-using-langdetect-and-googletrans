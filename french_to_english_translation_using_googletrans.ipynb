{
  "metadata": {
    "kernelspec": {
      "language": "python",
      "display_name": "Python 3",
      "name": "python3"
    },
    "language_info": {
      "name": "python",
      "version": "3.10.12",
      "mimetype": "text/x-python",
      "codemirror_mode": {
        "name": "ipython",
        "version": 3
      },
      "pygments_lexer": "ipython3",
      "nbconvert_exporter": "python",
      "file_extension": ".py"
    },
    "colab": {
      "provenance": []
    }
  },
  "nbformat_minor": 0,
  "nbformat": 4,
  "cells": [
    {
      "cell_type": "code",
      "source": [
        "# This Python 3 environment comes with many helpful analytics libraries installed\n",
        "# It is defined by the kaggle/python Docker image: https://github.com/kaggle/docker-python\n",
        "# For example, here's several helpful packages to load\n",
        "\n",
        "import numpy as np # linear algebra\n",
        "import pandas as pd # data processing, CSV file I/O (e.g. pd.read_csv)\n",
        "\n",
        "# Input data files are available in the read-only \"../input/\" directory\n",
        "# For example, running this (by clicking run or pressing Shift+Enter) will list all files under the input directory\n",
        "\n",
        "import os\n",
        "for dirname, _, filenames in os.walk('/kaggle/input'):\n",
        "    for filename in filenames:\n",
        "        print(os.path.join(dirname, filename))\n",
        "\n",
        "# You can write up to 20GB to the current directory (/kaggle/working/) that gets preserved as output when you create a version using \"Save & Run All\"\n",
        "# You can also write temporary files to /kaggle/temp/, but they won't be saved outside of the current session"
      ],
      "metadata": {
        "_uuid": "8f2839f25d086af736a60e9eeb907d3b93b6e0e5",
        "_cell_guid": "b1076dfc-b9ad-4769-8c92-a6c4dae69d19",
        "execution": {
          "iopub.status.busy": "2023-10-16T08:23:26.689939Z",
          "iopub.execute_input": "2023-10-16T08:23:26.690295Z",
          "iopub.status.idle": "2023-10-16T08:23:27.099334Z",
          "shell.execute_reply.started": "2023-10-16T08:23:26.690266Z",
          "shell.execute_reply": "2023-10-16T08:23:27.097931Z"
        },
        "trusted": true,
        "id": "GIE43y3vn6Xm"
      },
      "execution_count": 1,
      "outputs": []
    },
    {
      "cell_type": "code",
      "source": [
        "!pip install googletrans==4.0.0-rc1\n"
      ],
      "metadata": {
        "execution": {
          "iopub.status.busy": "2023-10-16T08:23:27.101652Z",
          "iopub.execute_input": "2023-10-16T08:23:27.103027Z",
          "iopub.status.idle": "2023-10-16T08:23:43.588038Z",
          "shell.execute_reply.started": "2023-10-16T08:23:27.102982Z",
          "shell.execute_reply": "2023-10-16T08:23:43.586503Z"
        },
        "trusted": true,
        "colab": {
          "base_uri": "https://localhost:8080/"
        },
        "id": "P8OXblLln6Xo",
        "outputId": "f2056265-35e2-46e3-d120-1e8cc68abe63"
      },
      "execution_count": 3,
      "outputs": [
        {
          "output_type": "stream",
          "name": "stdout",
          "text": [
            "Collecting googletrans==4.0.0-rc1\n",
            "  Downloading googletrans-4.0.0rc1.tar.gz (20 kB)\n",
            "  Preparing metadata (setup.py) ... \u001b[?25l\u001b[?25hdone\n",
            "Collecting httpx==0.13.3 (from googletrans==4.0.0-rc1)\n",
            "  Downloading httpx-0.13.3-py3-none-any.whl (55 kB)\n",
            "\u001b[2K     \u001b[90m━━━━━━━━━━━━━━━━━━━━━━━━━━━━━━━━━━━━━━━━\u001b[0m \u001b[32m55.1/55.1 kB\u001b[0m \u001b[31m3.1 MB/s\u001b[0m eta \u001b[36m0:00:00\u001b[0m\n",
            "\u001b[?25hRequirement already satisfied: certifi in /usr/local/lib/python3.10/dist-packages (from httpx==0.13.3->googletrans==4.0.0-rc1) (2023.7.22)\n",
            "Collecting hstspreload (from httpx==0.13.3->googletrans==4.0.0-rc1)\n",
            "  Downloading hstspreload-2023.1.1-py3-none-any.whl (1.5 MB)\n",
            "\u001b[2K     \u001b[90m━━━━━━━━━━━━━━━━━━━━━━━━━━━━━━━━━━━━━━━━\u001b[0m \u001b[32m1.5/1.5 MB\u001b[0m \u001b[31m11.0 MB/s\u001b[0m eta \u001b[36m0:00:00\u001b[0m\n",
            "\u001b[?25hRequirement already satisfied: sniffio in /usr/local/lib/python3.10/dist-packages (from httpx==0.13.3->googletrans==4.0.0-rc1) (1.3.0)\n",
            "Collecting chardet==3.* (from httpx==0.13.3->googletrans==4.0.0-rc1)\n",
            "  Downloading chardet-3.0.4-py2.py3-none-any.whl (133 kB)\n",
            "\u001b[2K     \u001b[90m━━━━━━━━━━━━━━━━━━━━━━━━━━━━━━━━━━━━━━━━\u001b[0m \u001b[32m133.4/133.4 kB\u001b[0m \u001b[31m17.4 MB/s\u001b[0m eta \u001b[36m0:00:00\u001b[0m\n",
            "\u001b[?25hCollecting idna==2.* (from httpx==0.13.3->googletrans==4.0.0-rc1)\n",
            "  Downloading idna-2.10-py2.py3-none-any.whl (58 kB)\n",
            "\u001b[2K     \u001b[90m━━━━━━━━━━━━━━━━━━━━━━━━━━━━━━━━━━━━━━━━\u001b[0m \u001b[32m58.8/58.8 kB\u001b[0m \u001b[31m8.3 MB/s\u001b[0m eta \u001b[36m0:00:00\u001b[0m\n",
            "\u001b[?25hCollecting rfc3986<2,>=1.3 (from httpx==0.13.3->googletrans==4.0.0-rc1)\n",
            "  Downloading rfc3986-1.5.0-py2.py3-none-any.whl (31 kB)\n",
            "Collecting httpcore==0.9.* (from httpx==0.13.3->googletrans==4.0.0-rc1)\n",
            "  Downloading httpcore-0.9.1-py3-none-any.whl (42 kB)\n",
            "\u001b[2K     \u001b[90m━━━━━━━━━━━━━━━━━━━━━━━━━━━━━━━━━━━━━━━━\u001b[0m \u001b[32m42.6/42.6 kB\u001b[0m \u001b[31m6.4 MB/s\u001b[0m eta \u001b[36m0:00:00\u001b[0m\n",
            "\u001b[?25hCollecting h11<0.10,>=0.8 (from httpcore==0.9.*->httpx==0.13.3->googletrans==4.0.0-rc1)\n",
            "  Downloading h11-0.9.0-py2.py3-none-any.whl (53 kB)\n",
            "\u001b[2K     \u001b[90m━━━━━━━━━━━━━━━━━━━━━━━━━━━━━━━━━━━━━━━━\u001b[0m \u001b[32m53.6/53.6 kB\u001b[0m \u001b[31m7.4 MB/s\u001b[0m eta \u001b[36m0:00:00\u001b[0m\n",
            "\u001b[?25hCollecting h2==3.* (from httpcore==0.9.*->httpx==0.13.3->googletrans==4.0.0-rc1)\n",
            "  Downloading h2-3.2.0-py2.py3-none-any.whl (65 kB)\n",
            "\u001b[2K     \u001b[90m━━━━━━━━━━━━━━━━━━━━━━━━━━━━━━━━━━━━━━━━\u001b[0m \u001b[32m65.0/65.0 kB\u001b[0m \u001b[31m9.5 MB/s\u001b[0m eta \u001b[36m0:00:00\u001b[0m\n",
            "\u001b[?25hCollecting hyperframe<6,>=5.2.0 (from h2==3.*->httpcore==0.9.*->httpx==0.13.3->googletrans==4.0.0-rc1)\n",
            "  Downloading hyperframe-5.2.0-py2.py3-none-any.whl (12 kB)\n",
            "Collecting hpack<4,>=3.0 (from h2==3.*->httpcore==0.9.*->httpx==0.13.3->googletrans==4.0.0-rc1)\n",
            "  Downloading hpack-3.0.0-py2.py3-none-any.whl (38 kB)\n",
            "Building wheels for collected packages: googletrans\n",
            "  Building wheel for googletrans (setup.py) ... \u001b[?25l\u001b[?25hdone\n",
            "  Created wheel for googletrans: filename=googletrans-4.0.0rc1-py3-none-any.whl size=17396 sha256=188d285d5b52a946fbd01993478e37052b77508f37784c4c4e86ca108238b7af\n",
            "  Stored in directory: /root/.cache/pip/wheels/c0/59/9f/7372f0cf70160fe61b528532e1a7c8498c4becd6bcffb022de\n",
            "Successfully built googletrans\n",
            "Installing collected packages: rfc3986, hyperframe, hpack, h11, chardet, idna, hstspreload, h2, httpcore, httpx, googletrans\n",
            "  Attempting uninstall: chardet\n",
            "    Found existing installation: chardet 5.2.0\n",
            "    Uninstalling chardet-5.2.0:\n",
            "      Successfully uninstalled chardet-5.2.0\n",
            "  Attempting uninstall: idna\n",
            "    Found existing installation: idna 3.4\n",
            "    Uninstalling idna-3.4:\n",
            "      Successfully uninstalled idna-3.4\n",
            "Successfully installed chardet-3.0.4 googletrans-4.0.0rc1 h11-0.9.0 h2-3.2.0 hpack-3.0.0 hstspreload-2023.1.1 httpcore-0.9.1 httpx-0.13.3 hyperframe-5.2.0 idna-2.10 rfc3986-1.5.0\n"
          ]
        }
      ]
    },
    {
      "cell_type": "code",
      "source": [
        "from googletrans import Translator"
      ],
      "metadata": {
        "execution": {
          "iopub.status.busy": "2023-10-16T08:24:41.622873Z",
          "iopub.execute_input": "2023-10-16T08:24:41.623254Z",
          "iopub.status.idle": "2023-10-16T08:24:41.629644Z",
          "shell.execute_reply.started": "2023-10-16T08:24:41.623226Z",
          "shell.execute_reply": "2023-10-16T08:24:41.628336Z"
        },
        "trusted": true,
        "id": "1b8XNphEn6Xp"
      },
      "execution_count": 4,
      "outputs": []
    },
    {
      "cell_type": "code",
      "source": [
        "translator=Translator()\n",
        "french_text=\"\"\" « IA » redirige ici. Pour d'autres utilisations, voir IA (homonymie), Intelligence artificielle (homonymie) et Agent intelligent.\n",
        "Fait partie d'une série sur\n",
        "Intelligence artificielle\n",
        "\n",
        "Objectifs majeurs\n",
        "Approches\n",
        "Philosophie\n",
        "Histoire\n",
        "Technologie\n",
        "Glossaire\n",
        "vte\n",
        "L'intelligence artificielle (IA) est l'intelligence des machines ou des logiciels, par opposition à l'intelligence des humains ou des animaux. C'est aussi le domaine d'études en informatique qui développe et étudie les machines intelligentes. « IA » peut également faire référence aux machines elles-mêmes.\n",
        "\n",
        "La technologie de l’IA est largement utilisée dans l’industrie, le gouvernement et la science. Certaines applications de premier plan sont : les moteurs de recherche Web avancés (par exemple, la recherche Google), les systèmes de recommandation (utilisés par YouTube, Amazon et Netflix), la compréhension de la parole humaine (comme Siri et Alexa), les voitures autonomes (par exemple, Waymo ), des outils génératifs ou créatifs (ChatGPT et AI art) et la compétition au plus haut niveau dans des jeux stratégiques (comme les échecs et le Go).[1]\n",
        "\n",
        "L'intelligence artificielle a été fondée en tant que discipline académique en 1956.[2] Le domaine a traversé plusieurs cycles d'optimisme[3][4] suivis de déception et de perte de financement[5][6] mais après 2012, lorsque l'apprentissage profond a surpassé toutes les techniques d'IA précédentes,[7] il y a eu une forte augmentation du nombre d'utilisateurs. financement et intérêts.\n",
        "\n",
        "Les différents sous-domaines de la recherche en IA sont centrés sur des objectifs particuliers et sur l’utilisation d’outils particuliers. Les objectifs traditionnels de la recherche en IA comprennent le raisonnement, la représentation des connaissances, la planification, l'apprentissage, le traitement du langage naturel, la perception et la prise en charge de la robotique.[a] L'intelligence générale (la capacité de résoudre un problème arbitraire) fait partie des objectifs à long terme du domaine. [8] Pour résoudre ces problèmes, les chercheurs en IA ont adapté et intégré un large éventail de techniques de résolution de problèmes, notamment la recherche et l'optimisation mathématique, la logique formelle, les réseaux de neurones artificiels et les méthodes basées sur les statistiques, les probabilités et l'économie.[b] L'IA dessine également. sur la psychologie, la linguistique, la philosophie, les neurosciences et bien d'autres domaines.[9]\"\"\"\n",
        "# Translate the text\n",
        "translated_text = translator.translate(french_text, src='fr', dest='en')\n",
        "# translator = Translator(to_lang='en', from_lang='fr')\n",
        "# translated=translator.translate(french_text)\n",
        "# Get the translated text\n",
        "translated_text\n",
        "english_text=translated_text.text\n",
        "# print the translated text\n",
        "print(\"french: \"+french_text)\n",
        "print(\"/n\")\n",
        "print(\"english: \"+english_text)"
      ],
      "metadata": {
        "execution": {
          "iopub.status.busy": "2023-10-16T08:25:51.401572Z",
          "iopub.execute_input": "2023-10-16T08:25:51.401946Z",
          "iopub.status.idle": "2023-10-16T08:25:51.528063Z",
          "shell.execute_reply.started": "2023-10-16T08:25:51.401920Z",
          "shell.execute_reply": "2023-10-16T08:25:51.526512Z"
        },
        "trusted": true,
        "colab": {
          "base_uri": "https://localhost:8080/"
        },
        "id": "2oMCiUB4n6Xq",
        "outputId": "4bd88080-0160-48fd-f724-4be26af68e40"
      },
      "execution_count": 5,
      "outputs": [
        {
          "output_type": "stream",
          "name": "stdout",
          "text": [
            "french:  « IA » redirige ici. Pour d'autres utilisations, voir IA (homonymie), Intelligence artificielle (homonymie) et Agent intelligent.\n",
            "Fait partie d'une série sur\n",
            "Intelligence artificielle\n",
            "\n",
            "Objectifs majeurs\n",
            "Approches\n",
            "Philosophie\n",
            "Histoire\n",
            "Technologie\n",
            "Glossaire\n",
            "vte\n",
            "L'intelligence artificielle (IA) est l'intelligence des machines ou des logiciels, par opposition à l'intelligence des humains ou des animaux. C'est aussi le domaine d'études en informatique qui développe et étudie les machines intelligentes. « IA » peut également faire référence aux machines elles-mêmes.\n",
            "\n",
            "La technologie de l’IA est largement utilisée dans l’industrie, le gouvernement et la science. Certaines applications de premier plan sont : les moteurs de recherche Web avancés (par exemple, la recherche Google), les systèmes de recommandation (utilisés par YouTube, Amazon et Netflix), la compréhension de la parole humaine (comme Siri et Alexa), les voitures autonomes (par exemple, Waymo ), des outils génératifs ou créatifs (ChatGPT et AI art) et la compétition au plus haut niveau dans des jeux stratégiques (comme les échecs et le Go).[1]\n",
            "\n",
            "L'intelligence artificielle a été fondée en tant que discipline académique en 1956.[2] Le domaine a traversé plusieurs cycles d'optimisme[3][4] suivis de déception et de perte de financement[5][6] mais après 2012, lorsque l'apprentissage profond a surpassé toutes les techniques d'IA précédentes,[7] il y a eu une forte augmentation du nombre d'utilisateurs. financement et intérêts.\n",
            "\n",
            "Les différents sous-domaines de la recherche en IA sont centrés sur des objectifs particuliers et sur l’utilisation d’outils particuliers. Les objectifs traditionnels de la recherche en IA comprennent le raisonnement, la représentation des connaissances, la planification, l'apprentissage, le traitement du langage naturel, la perception et la prise en charge de la robotique.[a] L'intelligence générale (la capacité de résoudre un problème arbitraire) fait partie des objectifs à long terme du domaine. [8] Pour résoudre ces problèmes, les chercheurs en IA ont adapté et intégré un large éventail de techniques de résolution de problèmes, notamment la recherche et l'optimisation mathématique, la logique formelle, les réseaux de neurones artificiels et les méthodes basées sur les statistiques, les probabilités et l'économie.[b] L'IA dessine également. sur la psychologie, la linguistique, la philosophie, les neurosciences et bien d'autres domaines.[9]\n",
            "/n\n",
            "english: \"IA\" redirects here.For other uses, see AI (homonymy), artificial intelligence (homonymy) and intelligent agent.\n",
            "Is part of a series on\n",
            "Artificial intelligence\n",
            "\n",
            "Major objectives\n",
            "Approaches\n",
            "Philosophy\n",
            "History\n",
            "Technology\n",
            "Glossary\n",
            "vte\n",
            "Artificial intelligence (AI) is the intelligence of machines or software, as opposed to the intelligence of humans or animals.It is also the field of computer studies that develops and studies smart machines.\"AI\" can also refer to the machines themselves.\n",
            "\n",
            "AI technology is widely used in industry, government and science.Some leading applications are: advanced web search engines (for example, Google research), recommendation systems (used by YouTube, Amazon and Netflix), understanding human speech (as Siri and Alexa),Autonomous cars (for example, waymo), generative or creative tools (Chatgpt and AI Art) and competition at the highest level in strategic games (such as failures and Go). [1]\n",
            "\n",
            "Artificial intelligence was founded as an academic discipline in 1956. [2]The field has gone through several cycles of optimism [3] [4] Followed by disappointment and loss of financing [5] [6] But after 2012, when deep learning surpassed all the techniques of previous AI, [7] There has been a sharp increase in the number of users.financing and interest.\n",
            "\n",
            "The different sub-domains of AI research are centered on special objectives and on the use of specific tools.The traditional objectives of research in AI understand reasoning, representation of knowledge, planning, learning, treatment of natural language, perception and management of robotics. [A] General intelligence (theAbility to solve an arbitrary problem) is one of the long -term objectives of the field.[8] To solve these problems, IA researchers have adapted and integrated a wide range of problem -solving techniques, including mathematical research and optimization, formal logic, artificial neural networks and methods based onstatistics, probabilities and economics. [B] AI also draws.On psychology, linguistics, philosophy, neuroscience and many other areas. [9]\n"
          ]
        }
      ]
    },
    {
      "cell_type": "code",
      "source": [
        "import pickle\n",
        "# Save the original French text to a pickle file\n",
        "with open('french_text.pkl', 'wb') as file:\n",
        "    pickle.dump(french_text, file)\n",
        "\n",
        "# Save the translated English text to a pickle file\n",
        "with open('english_text.pkl', 'wb') as file:\n",
        "    pickle.dump(english_text, file)"
      ],
      "metadata": {
        "id": "PV2dhbzxoMJZ"
      },
      "execution_count": 7,
      "outputs": []
    },
    {
      "cell_type": "code",
      "source": [
        "from google.colab import files\n",
        "files.download('french_text.pkl')\n",
        "files.download('english_text.pkl')"
      ],
      "metadata": {
        "colab": {
          "base_uri": "https://localhost:8080/",
          "height": 17
        },
        "id": "PWMUAtiCoxYU",
        "outputId": "7424fa97-9c76-4f1b-8a2c-f0e41992b49b"
      },
      "execution_count": 8,
      "outputs": [
        {
          "output_type": "display_data",
          "data": {
            "text/plain": [
              "<IPython.core.display.Javascript object>"
            ],
            "application/javascript": [
              "\n",
              "    async function download(id, filename, size) {\n",
              "      if (!google.colab.kernel.accessAllowed) {\n",
              "        return;\n",
              "      }\n",
              "      const div = document.createElement('div');\n",
              "      const label = document.createElement('label');\n",
              "      label.textContent = `Downloading \"${filename}\": `;\n",
              "      div.appendChild(label);\n",
              "      const progress = document.createElement('progress');\n",
              "      progress.max = size;\n",
              "      div.appendChild(progress);\n",
              "      document.body.appendChild(div);\n",
              "\n",
              "      const buffers = [];\n",
              "      let downloaded = 0;\n",
              "\n",
              "      const channel = await google.colab.kernel.comms.open(id);\n",
              "      // Send a message to notify the kernel that we're ready.\n",
              "      channel.send({})\n",
              "\n",
              "      for await (const message of channel.messages) {\n",
              "        // Send a message to notify the kernel that we're ready.\n",
              "        channel.send({})\n",
              "        if (message.buffers) {\n",
              "          for (const buffer of message.buffers) {\n",
              "            buffers.push(buffer);\n",
              "            downloaded += buffer.byteLength;\n",
              "            progress.value = downloaded;\n",
              "          }\n",
              "        }\n",
              "      }\n",
              "      const blob = new Blob(buffers, {type: 'application/binary'});\n",
              "      const a = document.createElement('a');\n",
              "      a.href = window.URL.createObjectURL(blob);\n",
              "      a.download = filename;\n",
              "      div.appendChild(a);\n",
              "      a.click();\n",
              "      div.remove();\n",
              "    }\n",
              "  "
            ]
          },
          "metadata": {}
        },
        {
          "output_type": "display_data",
          "data": {
            "text/plain": [
              "<IPython.core.display.Javascript object>"
            ],
            "application/javascript": [
              "download(\"download_48de5db6-2daa-4c34-b34c-1a0b01b71642\", \"french_text.pkl\", 2543)"
            ]
          },
          "metadata": {}
        },
        {
          "output_type": "display_data",
          "data": {
            "text/plain": [
              "<IPython.core.display.Javascript object>"
            ],
            "application/javascript": [
              "\n",
              "    async function download(id, filename, size) {\n",
              "      if (!google.colab.kernel.accessAllowed) {\n",
              "        return;\n",
              "      }\n",
              "      const div = document.createElement('div');\n",
              "      const label = document.createElement('label');\n",
              "      label.textContent = `Downloading \"${filename}\": `;\n",
              "      div.appendChild(label);\n",
              "      const progress = document.createElement('progress');\n",
              "      progress.max = size;\n",
              "      div.appendChild(progress);\n",
              "      document.body.appendChild(div);\n",
              "\n",
              "      const buffers = [];\n",
              "      let downloaded = 0;\n",
              "\n",
              "      const channel = await google.colab.kernel.comms.open(id);\n",
              "      // Send a message to notify the kernel that we're ready.\n",
              "      channel.send({})\n",
              "\n",
              "      for await (const message of channel.messages) {\n",
              "        // Send a message to notify the kernel that we're ready.\n",
              "        channel.send({})\n",
              "        if (message.buffers) {\n",
              "          for (const buffer of message.buffers) {\n",
              "            buffers.push(buffer);\n",
              "            downloaded += buffer.byteLength;\n",
              "            progress.value = downloaded;\n",
              "          }\n",
              "        }\n",
              "      }\n",
              "      const blob = new Blob(buffers, {type: 'application/binary'});\n",
              "      const a = document.createElement('a');\n",
              "      a.href = window.URL.createObjectURL(blob);\n",
              "      a.download = filename;\n",
              "      div.appendChild(a);\n",
              "      a.click();\n",
              "      div.remove();\n",
              "    }\n",
              "  "
            ]
          },
          "metadata": {}
        },
        {
          "output_type": "display_data",
          "data": {
            "text/plain": [
              "<IPython.core.display.Javascript object>"
            ],
            "application/javascript": [
              "download(\"download_70873eb6-15f4-4e22-8a2d-7b0c1d87ab1e\", \"english_text.pkl\", 2082)"
            ]
          },
          "metadata": {}
        }
      ]
    }
  ]
}